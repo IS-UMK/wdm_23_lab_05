{
 "cells": [
  {
   "cell_type": "markdown",
   "metadata": {
    "toc": true
   },
   "source": [
    "<h1>Table of Contents<span class=\"tocSkip\"></span></h1>\n",
    "<div class=\"toc\"><ul class=\"toc-item\"><li><span><a href=\"#5.-Regresja\" data-toc-modified-id=\"5.-Regresja-1\"><span class=\"toc-item-num\">1&nbsp;&nbsp;</span>5. Regresja</a></span><ul class=\"toc-item\"><li><span><a href=\"#Generowanie-danych-treningowych\" data-toc-modified-id=\"Generowanie-danych-treningowych-1.1\"><span class=\"toc-item-num\">1.1&nbsp;&nbsp;</span>Generowanie danych treningowych</a></span></li><li><span><a href=\"#Model-liniowy\" data-toc-modified-id=\"Model-liniowy-1.2\"><span class=\"toc-item-num\">1.2&nbsp;&nbsp;</span>Model liniowy</a></span></li><li><span><a href=\"#Regresja-wielu-zmiennych\" data-toc-modified-id=\"Regresja-wielu-zmiennych-1.3\"><span class=\"toc-item-num\">1.3&nbsp;&nbsp;</span>Regresja wielu zmiennych</a></span></li><li><span><a href=\"#Liniowa-regresja-w-scikit-learn\" data-toc-modified-id=\"Liniowa-regresja-w-scikit-learn-1.4\"><span class=\"toc-item-num\">1.4&nbsp;&nbsp;</span>Liniowa regresja w scikit-learn</a></span></li><li><span><a href=\"#Predykcja\" data-toc-modified-id=\"Predykcja-1.5\"><span class=\"toc-item-num\">1.5&nbsp;&nbsp;</span>Predykcja</a></span></li><li><span><a href=\"#Regresja-wielomianowa\" data-toc-modified-id=\"Regresja-wielomianowa-1.6\"><span class=\"toc-item-num\">1.6&nbsp;&nbsp;</span>Regresja wielomianowa</a></span><ul class=\"toc-item\"><li><span><a href=\"#Transformacja-wielomianowa-w-scikit-learn\" data-toc-modified-id=\"Transformacja-wielomianowa-w-scikit-learn-1.6.1\"><span class=\"toc-item-num\">1.6.1&nbsp;&nbsp;</span>Transformacja wielomianowa w scikit-learn</a></span></li><li><span><a href=\"#Dopasowanie-wielomianu-stopnia-3\" data-toc-modified-id=\"Dopasowanie-wielomianu-stopnia-3-1.6.2\"><span class=\"toc-item-num\">1.6.2&nbsp;&nbsp;</span>Dopasowanie wielomianu stopnia 3</a></span></li></ul></li><li><span><a href=\"#Przeuczenie\" data-toc-modified-id=\"Przeuczenie-1.7\"><span class=\"toc-item-num\">1.7&nbsp;&nbsp;</span>Przeuczenie</a></span></li><li><span><a href=\"#Ocena-modelu\" data-toc-modified-id=\"Ocena-modelu-1.8\"><span class=\"toc-item-num\">1.8&nbsp;&nbsp;</span>Ocena modelu</a></span><ul class=\"toc-item\"><li><span><a href=\"#Błąd-MSE\" data-toc-modified-id=\"Błąd-MSE-1.8.1\"><span class=\"toc-item-num\">1.8.1&nbsp;&nbsp;</span>Błąd MSE</a></span></li><li><span><a href=\"#Miara-$R^2$\" data-toc-modified-id=\"Miara-$R^2$-1.8.2\"><span class=\"toc-item-num\">1.8.2&nbsp;&nbsp;</span>Miara $R^2$</a></span></li><li><span><a href=\"#Meryki-oceny-w-scikit-learn\" data-toc-modified-id=\"Meryki-oceny-w-scikit-learn-1.8.3\"><span class=\"toc-item-num\">1.8.3&nbsp;&nbsp;</span>Meryki oceny w scikit-learn</a></span></li><li><span><a href=\"#Ocena-na-danych-testowych\" data-toc-modified-id=\"Ocena-na-danych-testowych-1.8.4\"><span class=\"toc-item-num\">1.8.4&nbsp;&nbsp;</span>Ocena na danych testowych</a></span></li></ul></li><li><span><a href=\"#Regularyzacja\" data-toc-modified-id=\"Regularyzacja-1.9\"><span class=\"toc-item-num\">1.9&nbsp;&nbsp;</span>Regularyzacja</a></span><ul class=\"toc-item\"><li><span><a href=\"#Regresja-grzbietowa\" data-toc-modified-id=\"Regresja-grzbietowa-1.9.1\"><span class=\"toc-item-num\">1.9.1&nbsp;&nbsp;</span>Regresja grzbietowa</a></span></li><li><span><a href=\"#Regresja-Lasso\" data-toc-modified-id=\"Regresja-Lasso-1.9.2\"><span class=\"toc-item-num\">1.9.2&nbsp;&nbsp;</span>Regresja Lasso</a></span></li></ul></li></ul></li><li><span><a href=\"#Zestaw-danych-Housing\" data-toc-modified-id=\"Zestaw-danych-Housing-2\"><span class=\"toc-item-num\">2&nbsp;&nbsp;</span>Zestaw danych Housing</a></span><ul class=\"toc-item\"><li><span><a href=\"#Podstawowe-informacje-o-danych\" data-toc-modified-id=\"Podstawowe-informacje-o-danych-2.1\"><span class=\"toc-item-num\">2.1&nbsp;&nbsp;</span>Podstawowe informacje o danych</a></span></li><li><span><a href=\"#Wsółczynnik-korelacji-liniowej\" data-toc-modified-id=\"Wsółczynnik-korelacji-liniowej-2.2\"><span class=\"toc-item-num\">2.2&nbsp;&nbsp;</span>Wsółczynnik korelacji liniowej</a></span></li><li><span><a href=\"#Wizualizowanie-ważnych-elementów-zestawu-danych\" data-toc-modified-id=\"Wizualizowanie-ważnych-elementów-zestawu-danych-2.3\"><span class=\"toc-item-num\">2.3&nbsp;&nbsp;</span>Wizualizowanie ważnych elementów zestawu danych</a></span></li><li><span><a href=\"#Wydzielenie-zbioru-testowego\" data-toc-modified-id=\"Wydzielenie-zbioru-testowego-2.4\"><span class=\"toc-item-num\">2.4&nbsp;&nbsp;</span>Wydzielenie zbioru testowego</a></span></li><li><span><a href=\"#Model-dla-pojedynczej-zmiennej\" data-toc-modified-id=\"Model-dla-pojedynczej-zmiennej-2.5\"><span class=\"toc-item-num\">2.5&nbsp;&nbsp;</span>Model dla pojedynczej zmiennej</a></span></li><li><span><a href=\"#Model-regresji-liniowej-dla-wybranych-zmiennych\" data-toc-modified-id=\"Model-regresji-liniowej-dla-wybranych-zmiennych-2.6\"><span class=\"toc-item-num\">2.6&nbsp;&nbsp;</span>Model regresji liniowej dla wybranych zmiennych</a></span></li><li><span><a href=\"#Wykres-residuów-(wartości-resztowe)\" data-toc-modified-id=\"Wykres-residuów-(wartości-resztowe)-2.7\"><span class=\"toc-item-num\">2.7&nbsp;&nbsp;</span>Wykres residuów (wartości resztowe)</a></span></li><li><span><a href=\"#Model-regresji-dla-wszystkich-zmienneych\" data-toc-modified-id=\"Model-regresji-dla-wszystkich-zmienneych-2.8\"><span class=\"toc-item-num\">2.8&nbsp;&nbsp;</span>Model regresji dla wszystkich zmienneych</a></span></li><li><span><a href=\"#Modelowanie-nieliniowych-zależności\" data-toc-modified-id=\"Modelowanie-nieliniowych-zależności-2.9\"><span class=\"toc-item-num\">2.9&nbsp;&nbsp;</span>Modelowanie nieliniowych zależności</a></span></li><li><span><a href=\"#Zadanie\" data-toc-modified-id=\"Zadanie-2.10\"><span class=\"toc-item-num\">2.10&nbsp;&nbsp;</span>Zadanie</a></span></li></ul></li></ul></div>"
   ]
  },
  {
   "cell_type": "markdown",
   "metadata": {
    "slideshow": {
     "slide_type": "slide"
    }
   },
   "source": [
    "# 5. Regresja\n",
    "\n",
    "Regrasja polega na stworzeniu modelu opisującego zależność między zmiennymi. Posiadając taki model możemy przewidywać wartość  jednej zmiennej ciągłej na podstawie innych zmienneych. \n",
    "\n",
    "Poniższy notatnik demonstruje:\n",
    "1. Metody **regresji liniowej** i wielomianowej z użyciem pakietu scikit-learn\n",
    "2. Tworzenie modelu (`fit`), predykcję wartości (`predict`) oraz ocenę jakości predykcji (miary MSE. $R^2$-score)\n",
    "3. **Problem przeuczenia** (_overfitting_) oraz sposoby redukcji tego problemu za pomocą **regularyzacji**\n"
   ]
  },
  {
   "cell_type": "markdown",
   "metadata": {
    "slideshow": {
     "slide_type": "slide"
    }
   },
   "source": [
    "## Generowanie danych treningowych\n",
    "\n",
    "Stworzymy najpierw sztuczne dane, na których zbudujemy model regresyjny\n"
   ]
  },
  {
   "cell_type": "code",
   "execution_count": null,
   "metadata": {},
   "outputs": [],
   "source": [
    "import numpy as np\n",
    "import matplotlib.pyplot as plt"
   ]
  },
  {
   "cell_type": "markdown",
   "metadata": {},
   "source": [
    "Zdefinujmy funkcję `true_function()`, która posłuży do wygenerowania danych do których będziemy dopasowywali nasz model. \n",
    "\n",
    "$$ f(x) = \\cos \\left(1.5 \\cdot \\pi \\cdot  x\\right) $$"
   ]
  },
  {
   "cell_type": "code",
   "execution_count": null,
   "metadata": {},
   "outputs": [],
   "source": [
    "def true_function(x):\n",
    "    return np.cos(1.5 * np.pi * x)"
   ]
  },
  {
   "cell_type": "markdown",
   "metadata": {},
   "source": [
    "Wygenerujmy próbkę danych `x` oraz wyznaczmy wartości funkcji `y` dla tych danych.   \n",
    "Będziemy szukać zależności `x ~ y`\n"
   ]
  },
  {
   "cell_type": "markdown",
   "metadata": {
    "slideshow": {
     "slide_type": "slide"
    }
   },
   "source": [
    "Zainicjalizujmy najpierw ziarno dla funkcji losującej, aby za każdym razem otrzymać *te same* ale losowe dane. Często się to przydaje, gdy operujemy na losowych danych, ale chcemy zagwarantować powtarzalność wyników. "
   ]
  },
  {
   "cell_type": "code",
   "execution_count": null,
   "metadata": {},
   "outputs": [],
   "source": [
    "np.random.seed(0)"
   ]
  },
  {
   "cell_type": "code",
   "execution_count": null,
   "metadata": {},
   "outputs": [],
   "source": [
    "n_samples = 30\n",
    "x = np.sort(np.random.rand(n_samples, 1))\n",
    "y = true_function(x) "
   ]
  },
  {
   "cell_type": "markdown",
   "metadata": {
    "slideshow": {
     "slide_type": "slide"
    }
   },
   "source": [
    "Narysujmy tą funkcję oraz wygenerowane punkty."
   ]
  },
  {
   "cell_type": "code",
   "execution_count": null,
   "metadata": {},
   "outputs": [],
   "source": [
    "#przedział do 'gęstego' narysowania funkcji,\n",
    "x_range = np.linspace(0, 1, 100)\n",
    "\n",
    "# operacja reshape tworzy transpozycje wektora, otrzymujemy macierzy o wymiarach (100, 1), \n",
    "# taka postać jest wymagana później przez model regresyjny LinearRegression()\n",
    "x_range = np.reshape(x_range, (-1, 1))\n",
    "\n",
    "plt.plot(x_range, true_function(x_range), label='funkcja prawdziwa')\n",
    "plt.plot(x, y, 'ro', label='Punkty treningowe')\n",
    "plt.legend()\n",
    "plt.show()"
   ]
  },
  {
   "cell_type": "markdown",
   "metadata": {
    "slideshow": {
     "slide_type": "slide"
    }
   },
   "source": [
    "Dodajmy trochę szumu do danych aby utrudnić problem dopasowania modelu w naszym przykładzie. "
   ]
  },
  {
   "cell_type": "code",
   "execution_count": null,
   "metadata": {},
   "outputs": [],
   "source": [
    "y = true_function(x) + np.random.randn(n_samples, 1) * 0.1\n",
    "\n",
    "plt.plot(x_range, true_function(x_range))\n",
    "\n",
    "plt.plot(x, y, 'ro',)\n",
    "plt.legend(['funkcja prawdziwa','punkty uczące'])\n",
    "plt.show()"
   ]
  },
  {
   "cell_type": "markdown",
   "metadata": {
    "slideshow": {
     "slide_type": "slide"
    }
   },
   "source": [
    "## Model liniowy\n",
    "\n",
    "Dopasujmy do naszych danych model liniowy dla jednej zmiennej \n",
    "\n",
    "$$ f(x) = x w_1 + w_0 $$\n",
    "\n",
    "Zadanie polega na znalezieniu takich parametrów $w_1$ i $w_0$ definiujących linię aby błąd popełniany przez tą funkcję był jak najmniejszy, tzn. chcemy aby punkty danych leżały w jak najmniejszej odległości od dopasowanej linii.  Funkcja kosztu (błędu) to suma kwadratów różnic między punktem prawdziwym $y_i$ a tym uzyskanym z modelu $f(x_i)$:\n",
    "\n",
    "$$L(y, f(x,w)) = \\sum_{i=1}^N \\|y_i - f(x_i)\\|^2,$$\n",
    "\n",
    "Zadanie polega więc na znalezieniu takich $w_1$ i $w_0$, które minimalizują wartość błędu $L$. W celu wyznaczenia tego minimum wykorzystamy algorytm regresji liniowej dostępny w pakiecie scikit-learn dla klasy [LinearRegression()](https://scikit-learn.org/stable/modules/generated/sklearn.linear_model.LinearRegression.html)."
   ]
  },
  {
   "cell_type": "markdown",
   "metadata": {
    "slideshow": {
     "slide_type": "slide"
    }
   },
   "source": [
    "## Regresja wielu zmiennych \n",
    "\n",
    "Ogólna postać modelu regrasji liniowej wielowymiarowej  \n",
    "\n",
    "$$\n",
    "\\begin{array}{ll}\n",
    "f(\\mathbf{x}) & = x_1 w_1 + x_2 w_2 + \\ldots + x_k w_k + w_0 \\\\\n",
    "              & = \\mathbf{x}^T \\mathbf{w} + w_0 \\\\\n",
    "\\end{array}\n",
    "$$\n",
    "\n",
    "gdzie dla $k$ zmiennych $\\mathbf{w}$ jest wektorem współczynników $[w_1, w_2, \\ldots, w_k]$   i wraz z wyrazem wolnym $w_0$ są szukanymi wartościami określającymi liniową zależność w przestrzeni $\\mathbb{R}^k$ "
   ]
  },
  {
   "cell_type": "markdown",
   "metadata": {
    "slideshow": {
     "slide_type": "slide"
    }
   },
   "source": [
    "## Liniowa regresja w scikit-learn"
   ]
  },
  {
   "cell_type": "code",
   "execution_count": null,
   "metadata": {},
   "outputs": [],
   "source": [
    "from sklearn.linear_model import LinearRegression\n",
    "\n",
    "# Tworzymy obiekt realizujący liniową regresję\n",
    "regr = LinearRegression()"
   ]
  },
  {
   "cell_type": "markdown",
   "metadata": {},
   "source": [
    "Metoda ``fit(x, y)`` modelu predykcyjnego uruchamia trening modelu"
   ]
  },
  {
   "cell_type": "code",
   "execution_count": null,
   "metadata": {},
   "outputs": [],
   "source": [
    "# Dopasowanie modelu do danych (poszukiwanie minimum funkcji błedu)\n",
    "regr.fit(x, y)\n",
    "\n",
    "# Wyznaczone wspólczynniki regresji\n",
    "a = regr.coef_[0]           # wspólczynnik kierunkowy  \n",
    "b = regr.intercept_         # wyraz wolny w_0\n",
    "\n",
    "print(\"f(x) = %f x + %f\" % (a, b))"
   ]
  },
  {
   "cell_type": "markdown",
   "metadata": {
    "slideshow": {
     "slide_type": "slide"
    }
   },
   "source": [
    "## Predykcja\n",
    "\n",
    "Metoda [predict()](https://scikit-learn.org/stable/modules/generated/sklearn.linear_model.LinearRegression.html#sklearn.linear_model.LinearRegression.predict) pozwala wyznaczyć przewidywaną wartość zmiennej wyjściowej dla dowonych wartości wejściowych `x` "
   ]
  },
  {
   "cell_type": "code",
   "execution_count": null,
   "metadata": {},
   "outputs": [],
   "source": [
    "y1 = regr.predict([[0.5]])\n",
    "print(y1)"
   ]
  },
  {
   "cell_type": "code",
   "execution_count": null,
   "metadata": {},
   "outputs": [],
   "source": [
    "# to samo\n",
    "print(a * 0.5 + b)  "
   ]
  },
  {
   "cell_type": "code",
   "execution_count": null,
   "metadata": {
    "scrolled": true,
    "slideshow": {
     "slide_type": "slide"
    }
   },
   "outputs": [],
   "source": [
    "y_pred = regr.predict(x_range)\n",
    "\n",
    "plt.plot(x_range, true_function(x_range), label='funkcja prawdziwa')\n",
    "plt.plot(x_range, y_pred, 'g--', label='regresja liniowa')\n",
    "plt.plot(x, y, 'ro', label='punkty uczące')\n",
    "plt.legend()\n",
    "plt.show()"
   ]
  },
  {
   "cell_type": "code",
   "execution_count": null,
   "metadata": {},
   "outputs": [],
   "source": [
    "# co sprowadza się w tym przypadku do operacji\n",
    "y_lin = a * x_range + b      # model liniowy zalezosci X ~ Y\n",
    "\n",
    "np.alltrue(y_pred == y_lin)"
   ]
  },
  {
   "cell_type": "markdown",
   "metadata": {
    "slideshow": {
     "slide_type": "slide"
    }
   },
   "source": [
    "## Regresja wielomianowa\n",
    "\n",
    "Model liniowy w tym przypadku jest daleki od ideału. Spróbujmy dopasować do danych funkcję wielomianową.\n",
    "\n",
    "$$ f(x) = x^k w_k + x^{k-1} w_{k-1} + \\ldots + x w_1 + w_0 $$\n",
    "\n",
    "gdzie $k$ określa stopień wielomianu.  \n",
    "Dla $k=1$ otrzymamy znowu model liniowy, dla $k=2$ parabolę, itd.\n",
    "\n",
    "Jak widać sprowadza się to do znalezienia wspólczynników $w_i$ liniowego modelu dla $k$ zmiennych, gdzie zmienne są postaci $x, x^2, \\ldots, x^k$.\n",
    "\n",
    "Wykorzystajmy funkcję [PolynomialFeatures()](https://scikit-learn.org/stable/modules/generated/sklearn.preprocessing.PolynomialFeatures.html) do przekształcenia danych $x$ do takiej postaci."
   ]
  },
  {
   "cell_type": "markdown",
   "metadata": {
    "slideshow": {
     "slide_type": "slide"
    }
   },
   "source": [
    "### Transformacja wielomianowa w scikit-learn\n",
    "\n",
    "Stwórzmy model liniowy dla zmiennych $(x^2, x, 1)$, co odpowiada dopasowaniu wielomianu 2 stopnia $$f(x) = w_2 x^2 + w_1 x + w_0$$\n",
    "\n",
    "[PolynomialFeatures()](https://scikit-learn.org/stable/modules/generated/sklearn.preprocessing.PolynomialFeatures.html) jest transformatorem danych, API takich modeli w scikit-learn wygląda tak: \n",
    "* ``fit(x)`` - trening (dopasowanie) modelu transformacji na danych treningowych\n",
    "* ``transform(x)`` - transformacja (nowych) danych za pomocą modelu uzyskanego w treningu\n",
    "* ``fit_transform(x)`` - trening i transformacja danych treningowych "
   ]
  },
  {
   "cell_type": "code",
   "execution_count": null,
   "metadata": {},
   "outputs": [],
   "source": [
    "from sklearn.preprocessing import PolynomialFeatures \n",
    "\n",
    "# transformacja wielomianowa stopnia 2 \n",
    "poly2 = PolynomialFeatures(degree = 2) \n",
    "x_poly2 = poly2.fit_transform(x)\n",
    "\n",
    "print(x.shape, '-> ', x_poly2.shape)\n",
    "print(x[0], ' -> ', x_poly2[0])"
   ]
  },
  {
   "cell_type": "markdown",
   "metadata": {
    "slideshow": {
     "slide_type": "-"
    }
   },
   "source": [
    " Zmienna $x_i$ zostaje zamieniona na $1, x_i, x_i^2$"
   ]
  },
  {
   "cell_type": "code",
   "execution_count": null,
   "metadata": {},
   "outputs": [],
   "source": [
    "# sprawdźmy \n",
    "x_tmp =  np.hstack( [ np.ones(x.shape), x, x*x] )   #  x zamienione na 1, x, x^2\n",
    "np.alltrue(x_tmp == x_poly2)"
   ]
  },
  {
   "cell_type": "code",
   "execution_count": null,
   "metadata": {
    "slideshow": {
     "slide_type": "slide"
    }
   },
   "outputs": [],
   "source": [
    "regr2 = LinearRegression()\n",
    "regr2.fit(x_poly2, y)\n",
    "\n",
    "plt.plot(x_range, true_function(x_range), label='prawdziwa funkcja')\n",
    "plt.plot(x_range, regr2.predict(poly2.transform(x_range)), 'g--', label='regresja wielomianem stopnia 2')\n",
    "plt.plot(x, y, 'ro', label='punkty treningowe')\n",
    "plt.legend()\n",
    "plt.show()\n",
    "\n",
    "print('%d współczynniki regresji: %s'  % ( len(regr2.coef_[0]), str(regr2.coef_[0])))"
   ]
  },
  {
   "cell_type": "markdown",
   "metadata": {},
   "source": [
    "Wynik wygląda lepiej. Spróbujmy dopasować wielomian wyższego rzędu."
   ]
  },
  {
   "cell_type": "markdown",
   "metadata": {
    "slideshow": {
     "slide_type": "slide"
    }
   },
   "source": [
    "### Dopasowanie wielomianu stopnia 3"
   ]
  },
  {
   "cell_type": "code",
   "execution_count": null,
   "metadata": {},
   "outputs": [],
   "source": [
    "poly3 = PolynomialFeatures(degree = 3) \n",
    "x_poly3 = poly3.fit_transform(x) \n",
    "\n",
    "regr3 = LinearRegression()\n",
    "regr3.fit(x_poly3, y)\n",
    "\n",
    "plt.figure(figsize=(10,8))\n",
    "plt.plot(x_range, true_function(x_range), label='prawdziwa funkcja')\n",
    "plt.plot(x_range, regr2.predict(poly2.transform(x_range)), 'g--', label='regresja wielomianowa d=2')\n",
    "plt.plot(x_range, regr3.predict(poly3.transform(x_range)), 'm--', label='regresja wielomianowa d=3')\n",
    "plt.plot(x, y, 'ro', label='punkty uczące')\n",
    "plt.legend()\n",
    "plt.show()\n",
    "\n",
    "print('%d współczynniki regresji: %s'  % ( len(regr3.coef_[0]), str(regr3.coef_[0])))"
   ]
  },
  {
   "attachments": {
    "image.png": {
     "image/png": "[encoded data removed]"
    }
   },
   "cell_type": "markdown",
   "metadata": {
    "slideshow": {
     "slide_type": "slide"
    }
   },
   "source": [
    "## Przeuczenie\n",
    "\n",
    "Wygląda na to, że jeśli będziemy dopasowywać wielomian coraz wyższego stopnia, otrzymamy coraz lepszą aproksymację danych. Niemniej jednak zwiększanie stopnia wielomianu, a co za tym idzie 'poziomu skomplikowania' naszego modelu, będzie powodować zbyt duże dopasowanie się do danych i zbyt małe możliwości generalizacji modelu. W szczególności możemy mówić o dwóch fenomenach jeżeli uczymy się parametrów modelu z danych:\n",
    "\n",
    "* **underfit** - model jest zbyt 'prosty' aby uchwycić zależności między danymi\n",
    "* **overfit** (przeczenie)  - parametry naszego modelu 'nauczyły' się szumu, model jest zbyt dopasowany do danych treningowych\n",
    "\n",
    "![image.png](attachment:image.png)\n"
   ]
  },
  {
   "cell_type": "markdown",
   "metadata": {
    "slideshow": {
     "slide_type": "slide"
    }
   },
   "source": [
    "Istnieje zatem całkiem duże prawdopodobieństwo, że zwiększając stopień wielomianu dopasowaliśmy wielomian do szumu. Aby to zilustrować weźmy wielomian 16-go stopnia:"
   ]
  },
  {
   "cell_type": "code",
   "execution_count": null,
   "metadata": {
    "slideshow": {
     "slide_type": "-"
    }
   },
   "outputs": [],
   "source": [
    "poly16 = PolynomialFeatures(degree = 16)\n",
    "x_poly16 = poly16.fit_transform(x)\n",
    "\n",
    "regr16 = LinearRegression() \n",
    "regr16.fit(x_poly16, y)\n",
    "\n",
    "plt.figure(figsize=(10,8))\n",
    "plt.plot(x_range, true_function(x_range), label='prawdziwa funkcja')\n",
    "plt.plot(x_range, regr16.predict(poly16.fit_transform(x_range)), 'b--', label='regresja wielomianowa d=16 (przeuczenie)')\n",
    "plt.plot(x, y, 'ro', label='punkty uczące')\n",
    "plt.ylim((-1.2, 1.7))\n",
    "plt.legend()\n",
    "plt.show()\n",
    "\n",
    "print('%d współczynników regresji: %s'  % ( len(regr16.coef_[0]), str(regr16.coef_[0])))"
   ]
  },
  {
   "cell_type": "markdown",
   "metadata": {
    "slideshow": {
     "slide_type": "slide"
    }
   },
   "source": [
    "## Ocena modelu\n",
    "### Błąd MSE\n",
    "\n",
    "Podstawową miarą służącą do oceny modelu regresyjnego jest średnia wartość funkcji kosztu, czyli tzw. **błąd średniokwadratowy MSE** (*mean squared error*):\n",
    "\n",
    "$$ MSE = \\frac{1}{n} \\sum_{i=1}^n \\left( y_i - f(x_i) \\right)^2 $$\n",
    "\n",
    "W przypadku idealnego dopasowania, gdy wszystkie $y_i$ są bezbłędnie dopasowane przez funkcję $f(x_i)$, bład MSE ma wartość 0. "
   ]
  },
  {
   "cell_type": "markdown",
   "metadata": {
    "slideshow": {
     "slide_type": "slide"
    }
   },
   "source": [
    "### Miara $R^2$\n",
    "\n",
    "Drugą powszechnie używaną miarą oceny jest **współczynnik determinacji $R^2$**:\n",
    "\n",
    "$$ R^2 = 1 - \\frac{\\sum_{i=1}^n \\left( f(x_i) - y_i\\right)^2}{\\sum_{i=1}^n \\left( y_i - \\bar{y}_i\\right)^2} > 0$$\n",
    "\n",
    "gdzie $\\bar{y}$ to średnia wartość odpowiedzi $y_i$ dla wszystkich punktów w danych $i=1,\\ldots,n$.  \n",
    "\n",
    "Im większa wartość współczynnika $R^2$ tym lepsze dopasowanie $f(x)$ do danych.\n",
    "\n",
    "W przypadku bezbłędnego dopasowania $R^2=1$."
   ]
  },
  {
   "cell_type": "markdown",
   "metadata": {
    "slideshow": {
     "slide_type": "slide"
    }
   },
   "source": [
    "### Meryki oceny w scikit-learn\n",
    "\n",
    "Pakiet ``sklearn.metrics`` zawiera szereg metryk do oceny modeli, w tym do oceny modeli regresyjnych:\n",
    "* funkcja ``mean_squared_error(y_true, y_pred)``\n",
    "* funkcja ``r2_score(y_true, y_pred)``\n",
    "\n",
    "Modele predykcyjne posiadają też metodę ``score(x, y)`` do wyznaczania oceny (dla ``LinearRegression()`` domyślnie jest to miara $R^2$) "
   ]
  },
  {
   "cell_type": "code",
   "execution_count": null,
   "metadata": {
    "slideshow": {
     "slide_type": "slide"
    }
   },
   "outputs": [],
   "source": [
    "from sklearn.metrics import r2_score, mean_squared_error\n",
    "\n",
    "y_pred = regr.predict(x)\n",
    "y_regr2_pred = regr2.predict(poly2.transform(x))\n",
    "y_regr3_pred = regr3.predict(poly3.transform(x))\n",
    "y_regr16_pred = regr16.predict(poly16.transform(x))\n",
    "\n",
    "import pandas as pd\n",
    "\n",
    "columns = ['Model', 'MSE', 'R2']\n",
    "data = pd.DataFrame(columns=columns)\n",
    "data.loc[0] = ['linear',   mean_squared_error(y, y_pred),        r2_score(y, y_pred)        ] \n",
    "data.loc[1] = ['poly 2',   mean_squared_error(y, y_regr2_pred),  r2_score(y, y_regr2_pred)  ] \n",
    "data.loc[2] = ['poly 3',   mean_squared_error(y, y_regr3_pred),  r2_score(y, y_regr3_pred)  ] \n",
    "data.loc[3] = ['poly 16',  mean_squared_error(y, y_regr16_pred), r2_score(y, y_regr16_pred) ] \n",
    "\n",
    "data"
   ]
  },
  {
   "cell_type": "code",
   "execution_count": null,
   "metadata": {},
   "outputs": [],
   "source": [
    "# R2-score za pomoca metody score() modelu\n",
    "regr.score(x, y)"
   ]
  },
  {
   "cell_type": "code",
   "execution_count": null,
   "metadata": {
    "slideshow": {
     "slide_type": "slide"
    }
   },
   "outputs": [],
   "source": [
    "import seaborn as sb\n",
    "sb.barplot(data=data, x='Model', y='MSE');"
   ]
  },
  {
   "cell_type": "code",
   "execution_count": null,
   "metadata": {
    "slideshow": {
     "slide_type": "slide"
    }
   },
   "outputs": [],
   "source": [
    "sb.barplot(data=data, x='Model', y='R2')"
   ]
  },
  {
   "cell_type": "markdown",
   "metadata": {},
   "source": [
    "Obliczanie błędu MSE na danych `(X, Y)`, na których dokonano dopasowania modelu nie jest wiarygodną oceną. Widać, że model najbardziej złożony i przeuczony ma najmniejszy błąd MSE. Znając prawdziwą funkcję, możemy obliczyć błąd popełniany przez model, jednak w rzeczywistych zastosowaniach nie mamy dostępu do prawdziwej funkcji, gdyż to właśnie tą funkcję próbujemy odkryć. Potrzebujemy danych do testowania. W przypadku, gdy mamy do dyspozycji dużo danych wejściowych możemy je podzielić na część **treningową** oraz część **testową**. Wówczas model dopasowany na zbiorze treningowym może zostać oceniony na części testowej, która nie została użyta do stworzenia modelu. Jeżeli model regresyjny będzie posiadał mały błąd również na danych testowych to znaczy, że znaleźliśmy ogólną regułę, prawdziwą dla tego typu danych (tzn.model generalizuje)."
   ]
  },
  {
   "cell_type": "markdown",
   "metadata": {
    "slideshow": {
     "slide_type": "slide"
    }
   },
   "source": [
    "### Ocena na danych testowych"
   ]
  },
  {
   "cell_type": "markdown",
   "metadata": {},
   "source": [
    "Załóżmy, że posiadamy osobny fragment naszych wygenerowanych danych, który nie brał udziału w tworzeniu modelu. W naszym przypadku wygenerujemy nowe obserwacje, które posłużą w roli zbioru testowego."
   ]
  },
  {
   "cell_type": "code",
   "execution_count": null,
   "metadata": {},
   "outputs": [],
   "source": [
    "x_test = np.sort(np.random.rand(100, 1))\n",
    "y_test = true_function(x_test) + np.random.randn(100, 1) * 0.1"
   ]
  },
  {
   "cell_type": "markdown",
   "metadata": {
    "slideshow": {
     "slide_type": "slide"
    }
   },
   "source": [
    "Dokonajmy oceny na zbiorze tesowym"
   ]
  },
  {
   "cell_type": "code",
   "execution_count": null,
   "metadata": {},
   "outputs": [],
   "source": [
    "y_test_pred = regr.predict(x_test)\n",
    "y_regr2_test_pred = regr2.predict(poly2.fit_transform(x_test))\n",
    "y_regr3_test_pred = regr3.predict(poly3.fit_transform(x_test))\n",
    "y_regr16_test_pred = regr16.predict(poly16.fit_transform(x_test))\n",
    "\n",
    "mse_test = [ \n",
    "     mean_squared_error(y_test, y_test_pred),\n",
    "     mean_squared_error(y_test, y_regr2_test_pred),\n",
    "     mean_squared_error(y_test, y_regr3_test_pred),\n",
    "     mean_squared_error(y_test, y_regr16_test_pred)\n",
    "]\n",
    "\n",
    "data['MSE test'] = mse_test\n",
    "sb.barplot(data=data, x='Model', y='MSE test')\n",
    "data"
   ]
  },
  {
   "cell_type": "markdown",
   "metadata": {},
   "source": [
    "Jak można było się spodziewać model o największej złożoności (wielomian stopnia 16) ma największy błąd na zbiorze testowym. Na zbiorze treningowym jego błąd był bardzo mały, to znaczy, że model jest przeuczony i zbytnio dopasował się do danych w zbiorze uczącym. Najlepszą generalizację (zdolność do popranego przewidywania `y` na nowych danych) w tym wypadku miała regresja wielomianowa stopnia 3.\n"
   ]
  },
  {
   "cell_type": "markdown",
   "metadata": {
    "slideshow": {
     "slide_type": "slide"
    }
   },
   "source": [
    "## Regularyzacja\n",
    "\n",
    "Metody regularyzacji mają za zadanie zminimalizować ryzyko przeuczenia modelu. W przypadku regresji powszechnie stosowanym podejściem jest dodanie do funkcji kosztu $L$ dodatkowego członu, który będzie wymuszał zmniejszanie wartości wag $w_i$. W szczególnym wypadku, gdy waga zmaleje do zera $w_i=0$ można uznać, że zmienna $i$-ta jest nieistotna dla modelowanej zależności (czynnik $w_i x_{ij}$ zanika). W ten sposób wymuszając zmniejszanie wartości wag w trakcie optymalizacji preferowane są modele o mniejszej złożoności (część wag $w_i$ zaniknie lub będzie miała małe wartości)."
   ]
  },
  {
   "cell_type": "markdown",
   "metadata": {
    "slideshow": {
     "slide_type": "slide"
    }
   },
   "source": [
    "### Regresja grzbietowa\n",
    "\n",
    "Regresja grzbietowa (*Ridge regression*) polega poszukiwaniu parametrów $w_i$ poprzez minimalizację poniższej funkcji kosztu\n",
    "$$L_{\\textrm{ridge}} = \\sum_{i=1}^N \\|y_i - f(x_i)\\|^2 + \\alpha \\|w\\|^2 $$\n",
    "\n",
    "gdzie $\\alpha > 0$ jest parametrem określającym siłę regularyzacji.  \n",
    "Dla $\\alpha=0$ człon regularyzacyjny zanika i regresja grzbietowa zamienia się w zwykła regresję liniową. Zazwyczaj $\\alpha$ jest małą wartością dodatnią np. 0.01.\n",
    "Minimalizacja powyższej funkcji kosztu dąży do minimalizacji błędu MSE (pierwszy człon) oraz do zanikania wartości wag (drugi człon).\n",
    "\n",
    "Spróbujmy zobaczyć jaki wynik uzyskamy dla regresji wielomianowej stopnia 16 w naszym przypadku, gdy zastosujemy regularyzację."
   ]
  },
  {
   "cell_type": "code",
   "execution_count": null,
   "metadata": {
    "slideshow": {
     "slide_type": "slide"
    }
   },
   "outputs": [],
   "source": [
    "from sklearn.linear_model import Ridge\n",
    "\n",
    "ridge = Ridge(alpha=0.02)\n",
    "ridge.fit(x_poly16, y)\n",
    "\n",
    "plt.figure(figsize=(10, 8))\n",
    "\n",
    "plt.plot(x_range, true_function(x_range), label='prawdziwa funkcja')\n",
    "plt.plot(x_range, ridge.predict(poly16.fit_transform(x_range)), 'b--', label='ridge (alpha=0.02)')\n",
    "# plt.plot(x_range, regr16.predict(poly16.fit_transform(x_range)), 'g--', label='poly 16')\n",
    "plt.plot(x, y, 'ro', label='punkty treningowe')\n",
    "plt.ylim((-1.2, 1.7))\n",
    "plt.legend()\n",
    "plt.show()\n"
   ]
  },
  {
   "cell_type": "code",
   "execution_count": null,
   "metadata": {
    "slideshow": {
     "slide_type": "slide"
    }
   },
   "outputs": [],
   "source": [
    "y_ridge_pred_test = ridge.predict(poly16.fit_transform(x_test))\n",
    "y_ridge_pred_train = ridge.predict(poly16.fit_transform(x))\n",
    "                             \n",
    "data.loc[4] = ['ridge',  \n",
    "               mean_squared_error(y, y_ridge_pred_train), \n",
    "               r2_score(y, y_ridge_pred_train),\n",
    "               mean_squared_error(y_test, y_ridge_pred_test)] \n",
    "data"
   ]
  },
  {
   "cell_type": "code",
   "execution_count": null,
   "metadata": {},
   "outputs": [],
   "source": [
    "sb.barplot(data=data, x='Model', y='MSE test');"
   ]
  },
  {
   "cell_type": "markdown",
   "metadata": {
    "slideshow": {
     "slide_type": "-"
    }
   },
   "source": [
    "Błąd na zbiorze testowym wskazuje, że dopasowanie wielomianu stopnia 16 do naszego przykładu z zastosowaniem regularyzacji grzbietowej osiągnął zbliżony wynik do wielomianu stopnia 3. "
   ]
  },
  {
   "cell_type": "markdown",
   "metadata": {
    "slideshow": {
     "slide_type": "slide"
    }
   },
   "source": [
    "Zobaczmy jak wyglądają wartości bezwzględne uzyskanych parametrów $w_i$ dla modelu z regularyzacją i bez regularyzacji."
   ]
  },
  {
   "cell_type": "code",
   "execution_count": null,
   "metadata": {},
   "outputs": [],
   "source": [
    "print('Suma wartości wag modelu z regularyzacją grzbietową:', np.absolute(ridge.coef_[0]).sum())\n",
    "print('Suma wartości wag modelu bez regularyzacji:', np.absolute(regr16.coef_[0]).sum())\n",
    "\n",
    "plt.bar(range(len(regr16.coef_[0])), np.absolute(regr16.coef_[0]))\n",
    "plt.title('Współczynniki regresji bez regularyzacji')\n",
    "plt.show()\n",
    "plt.bar(range(len(ridge.coef_[0])), np.absolute(ridge.coef_[0]))\n",
    "plt.title('Współczynniki regresji grzbietowej (z regularyzacją)')\n",
    "plt.show()"
   ]
  },
  {
   "cell_type": "markdown",
   "metadata": {
    "slideshow": {
     "slide_type": "slide"
    }
   },
   "source": [
    "### Regresja Lasso\n",
    "\n",
    "Regresja metodą Lasso jest bardzo podobna do regresji grzbietowej, jednak zamiast normy $L_2$ w czynniku regularyzacyjnym występuje norma $L_1$:\n",
    "\n",
    "$$L_{\\textrm{lasso}} = \\sum_{i=1}^N \\|y_i - f(x_i)\\|^2 + \\alpha \\|w\\|_1 $$\n",
    "\n",
    "Tego typu regularyzacja również preferuje rozwiązania z małymi wartościami wag, jednak w odróżnieniu od regresji grzbietowej otrzymana reprezentacja jest \"rzadsza\", tzn. większa liczba  spółczynników $w_i$ jest redukowanych do 0.\n",
    "\n",
    "Wykonajmy ponownie dopasowanie wielomianem stopnia 16 tym razem z regularyzacją Lasso"
   ]
  },
  {
   "cell_type": "code",
   "execution_count": null,
   "metadata": {},
   "outputs": [],
   "source": [
    "from sklearn.linear_model import Lasso\n",
    " \n",
    "lasso = Lasso(alpha=0.01)\n",
    "lasso.fit(x_poly16, y)\n",
    "\n",
    "plt.figure(figsize=(10, 8))\n",
    "\n",
    "plt.plot(x_range, true_function(x_range), label='funkcja prawdziwa')\n",
    "plt.plot(x_range, lasso.predict(poly16.fit_transform(x_range)), 'b--', label='regresja lasso (alpha=0.01)')\n",
    "# plt.plot(x_range, regr16.predict(poly16.fit_transform(x_range)), 'g--', label='poly 16')\n",
    "plt.plot(x, y, 'ro', label='punkty treningowe')\n",
    "plt.ylim((-1.2, 1.7))\n",
    "plt.legend()\n",
    "plt.show()                        \n",
    "\n"
   ]
  },
  {
   "cell_type": "code",
   "execution_count": null,
   "metadata": {
    "slideshow": {
     "slide_type": "slide"
    }
   },
   "outputs": [],
   "source": [
    "y_pred_train_lasso = lasso.predict(poly16.fit_transform(x))\n",
    "y_pred_test_lasso = lasso.predict(poly16.fit_transform(x_test))\n",
    "\n",
    "data.loc[5] = ['lasso',  \n",
    "               mean_squared_error(y, y_pred_train_lasso), \n",
    "               r2_score(y, y_pred_train_lasso),\n",
    "               mean_squared_error(y_test, y_pred_test_lasso)] \n",
    "\n",
    "sb.barplot(data=data, x='Model', y='MSE test')\n",
    "data"
   ]
  },
  {
   "cell_type": "markdown",
   "metadata": {},
   "source": [
    "Uzyskany wynik jest gorszy od modelu regresji grzbietowej ale jest też o wiele lepszy od modelu, który nie był poddany regularyzacji. Odpowiedni dobór siły regularyzacji $\\alpha$ powinien pozwolić uzyskać wynik zbliżony a może i lepszy od regresji grzbietowej. "
   ]
  },
  {
   "cell_type": "markdown",
   "metadata": {
    "slideshow": {
     "slide_type": "slide"
    }
   },
   "source": [
    "Porównanie wartości współczynników uzyskanych obiema metodami regularyzacji."
   ]
  },
  {
   "cell_type": "code",
   "execution_count": null,
   "metadata": {},
   "outputs": [],
   "source": [
    "print('Współczynniki modelu regresji grzbietowej')\n",
    "print(ridge.coef_[0])\n",
    "\n",
    "plt.bar(range(len(ridge.coef_[0])), np.absolute(ridge.coef_[0]))\n",
    "plt.title('Regresja grzebietowa')\n",
    "plt.show()\n",
    "\n",
    "print('Współczynniki regresji modelu lasso')\n",
    "print(lasso.coef_)\n",
    "\n",
    "plt.bar(range(len(lasso.coef_)), np.absolute(lasso.coef_))\n",
    "plt.title('Regresja lasso')\n",
    "plt.show()"
   ]
  },
  {
   "cell_type": "markdown",
   "metadata": {},
   "source": [
    "W przypadku regularyzacji Lasso tylko 3 współczynniki są niezerowe, tzn. tylko te 3 zmienne wystarczą do uzyskania predykcji wartości `y` przy zachowaniu niewielkiego błędu."
   ]
  },
  {
   "cell_type": "markdown",
   "metadata": {
    "slideshow": {
     "slide_type": "slide"
    }
   },
   "source": [
    "# Zestaw danych Housing\n",
    "\n",
    "Zbiór danych cen mieszkań w Bostonie (506 wierszy i 14 kolumn). Każdy wiersz reprezentuje dom znajdujący się w Bostonie w stanie Massachusetts w 1978 r.  \n",
    "Celem jest oszacowania średniej wartości domu (MEDV). \n",
    "\n",
    "Źródło: [https://archive.ics.uci.edu/ml/datasets/Housing](https://archive.ics.uci.edu/ml/datasets/Housing)\n",
    "\n",
    "Atrybuty:\n",
    "    \n",
    "<pre>\n",
    "1. CRIM      współczynnik przestępczości per capita na każde miasteczko\n",
    "2. ZN        odsetek działek przekraczających 25 000 stóp kwadratowych (≈ 2533 metrów kwadratowych).\n",
    "3. INDUS     odsetek terenów przeznaczonych na przemysł niedetaliczny na każde miasteczko\n",
    "4. CHAS      zmienna zerojedynkowa określająca rzekę Charles (przyjmuje wartość 1, gdy na danym terenie znajduje się koryto      \n",
    "             rzeki)\n",
    "5. NOX       stężenie tlenków azotu (w częściach na 10 milionów)\n",
    "6. RM        średnia liczba pomieszczeń na dom\n",
    "7. AGE       odsetek zamieszkałych budynków wybudowanych przed 1940 rokiem\n",
    "8. DIS       ważona odległość do pięciu bostońskich urzędów pracy\n",
    "9. RAD       wskaźnik dostępności do głównych arterii komunikacyjnych\n",
    "10. TAX      pełna wartość podatku od nieruchomości na każde 10 000 dolarów\n",
    "11. PTRATIO  stosunek liczby uczniów do nauczycieli na każde miasteczko\n",
    "12. B        parametr wyliczany ze wzoru 1000(Bk - 0.63)^2, gdzie Bk oznacza odsetek osób pochodzenia afroamerykańskiego \n",
    "             zamieszkujących dane miasteczko \n",
    "13. LSTAT    odsetek ubogiej części społeczeństwa\n",
    "14. MEDV     mediana wartości zamieszkanych domów wyrażona w tysiącach dolarów\n",
    "</pre>"
   ]
  },
  {
   "cell_type": "code",
   "execution_count": null,
   "metadata": {
    "slideshow": {
     "slide_type": "slide"
    }
   },
   "outputs": [],
   "source": [
    "import pandas as pd\n",
    "\n",
    "df = pd.read_csv('dane/housing.data', header=None, sep='\\s+')\n",
    "\n",
    "df.columns = ['CRIM', 'ZN', 'INDUS', 'CHAS', \n",
    "              'NOX', 'RM', 'AGE', 'DIS', 'RAD', \n",
    "              'TAX', 'PTRATIO', 'B', 'LSTAT', 'MEDV']\n",
    "df.head()"
   ]
  },
  {
   "cell_type": "markdown",
   "metadata": {
    "slideshow": {
     "slide_type": "slide"
    }
   },
   "source": [
    "## Podstawowe informacje o danych"
   ]
  },
  {
   "cell_type": "code",
   "execution_count": null,
   "metadata": {},
   "outputs": [],
   "source": [
    "df.info()"
   ]
  },
  {
   "cell_type": "code",
   "execution_count": null,
   "metadata": {
    "slideshow": {
     "slide_type": "slide"
    }
   },
   "outputs": [],
   "source": [
    "plt.figure(figsize=(15,5))\n",
    "df.boxplot()\n",
    "display(df.describe())"
   ]
  },
  {
   "cell_type": "code",
   "execution_count": null,
   "metadata": {},
   "outputs": [],
   "source": [
    "df.isna().any()"
   ]
  },
  {
   "cell_type": "markdown",
   "metadata": {
    "slideshow": {
     "slide_type": "slide"
    }
   },
   "source": [
    "## Wsółczynnik korelacji liniowej\n",
    "\n",
    "Korelacja liniowa [Pearsona](https://pl.wikipedia.org/wiki/Wsp%C3%B3%C5%82czynnik_korelacji_Pearsona) \n",
    "$$\n",
    "r_{x y}=\\frac{\\sum_{i=1}^{n}\\left(x_{i}-\\bar{x}\\right)\\left(y_{i}-\\bar{y}\\right)}{\\sqrt{\\sum_{i=1}^{n}\\left(x_{i}-\\bar{x}\\right)^{2}} \\sqrt{\\sum_{i=1}^{n}\\left(y_{i}-\\bar{y}\\right)^{2}}}\n",
    "$$\n",
    "\n",
    "Wartość bliska 1 lub -1 wskazuje o silnej korelacji linowej\n"
   ]
  },
  {
   "cell_type": "code",
   "execution_count": null,
   "metadata": {},
   "outputs": [],
   "source": [
    "#Sort correlations\n",
    "correlations = df.corr()\n",
    "correlations"
   ]
  },
  {
   "cell_type": "code",
   "execution_count": null,
   "metadata": {},
   "outputs": [],
   "source": [
    "import seaborn as sns\n",
    "\n",
    "plt.figure(figsize=(8, 8))\n",
    "sns.heatmap(correlations, cmap='coolwarm', vmin=-1, vmax=1, square=True)"
   ]
  },
  {
   "cell_type": "code",
   "execution_count": null,
   "metadata": {
    "slideshow": {
     "slide_type": "slide"
    }
   },
   "outputs": [],
   "source": [
    "# Wspólczynniki korelacji dla zmiennej MEDV\n",
    "\n",
    "corr_mdev = correlations['MEDV'].sort_values()\n",
    "corr_mdev"
   ]
  },
  {
   "cell_type": "markdown",
   "metadata": {
    "slideshow": {
     "slide_type": "slide"
    }
   },
   "source": [
    "## Wizualizowanie ważnych elementów zestawu danych\n",
    "\n",
    "Wybieżmy zmienne o wysokim wspólczynniku korelacji (>0.5)"
   ]
  },
  {
   "cell_type": "code",
   "execution_count": null,
   "metadata": {},
   "outputs": [],
   "source": [
    "import matplotlib.pyplot as plt\n",
    "import seaborn as sns\n",
    "\n",
    "cols = ['LSTAT', 'PTRATIO', 'RM', 'MEDV']\n",
    "\n",
    "sns.pairplot(df[cols], height=2.5)\n",
    "plt.tight_layout()\n",
    "plt.show()"
   ]
  },
  {
   "cell_type": "code",
   "execution_count": null,
   "metadata": {
    "slideshow": {
     "slide_type": "slide"
    }
   },
   "outputs": [],
   "source": [
    "cm = df[cols].corr()\n",
    "# sns.set(font_scale=1.0)\n",
    "plt.figure(figsize=(10,10))\n",
    "hm = sns.heatmap(cm, \n",
    "            cbar=True,\n",
    "            annot=True, \n",
    "            square=True,\n",
    "            fmt='.2f',\n",
    "            annot_kws={'size': 10},\n",
    "            yticklabels=cols,\n",
    "            xticklabels=cols,\n",
    "            cmap='coolwarm', vmin=-1, vmax = 1)\n",
    "\n",
    "plt.show()"
   ]
  },
  {
   "cell_type": "markdown",
   "metadata": {
    "slideshow": {
     "slide_type": "slide"
    }
   },
   "source": [
    "## Wydzielenie zbioru testowego\n",
    "\n",
    "\n"
   ]
  },
  {
   "cell_type": "code",
   "execution_count": null,
   "metadata": {},
   "outputs": [],
   "source": [
    "from sklearn.model_selection import train_test_split\n",
    "\n",
    "X = df.drop(columns='MEDV')\n",
    "y = df['MEDV']\n",
    "\n",
    "#Split data\n",
    "X_train, X_test, y_train, y_test = train_test_split(X, y, test_size=0.3, random_state=0)\n",
    "\n",
    "print('Ilość przypadków treningowych %d ' % len(X_train))\n",
    "print('Ilość przypadków testowych    %d ' % len(X_test))"
   ]
  },
  {
   "cell_type": "markdown",
   "metadata": {
    "slideshow": {
     "slide_type": "slide"
    }
   },
   "source": [
    "## Model dla pojedynczej zmiennej"
   ]
  },
  {
   "cell_type": "code",
   "execution_count": null,
   "metadata": {},
   "outputs": [],
   "source": [
    "# from sklearn.linear_model import LinearRegression\n",
    "\n",
    "lr = LinearRegression()\n",
    "lr.fit(X_train[['RM']],  y_train)\n",
    "\n",
    "print('Nachylenie: %.3f' % lr.coef_[0])\n",
    "print('Punkt przecięcia: %.3f' % lr.intercept_)"
   ]
  },
  {
   "cell_type": "code",
   "execution_count": null,
   "metadata": {},
   "outputs": [],
   "source": [
    "plt.scatter(X_train[['RM']], y_train, c='lightblue')\n",
    "\n",
    "x_range = [X_train[['RM']].min().values, X_train[['RM']].max().values ]\n",
    "plt.plot(x_range, lr.predict(x_range), color='red', linewidth=2) \n",
    "\n",
    "plt.xlabel('Uśredniona liczba pomieszczeń [RM]')\n",
    "plt.ylabel('Cena w tysiącach dolarów [MEDV]')\n",
    "plt.show()"
   ]
  },
  {
   "cell_type": "code",
   "execution_count": null,
   "metadata": {},
   "outputs": [],
   "source": [
    "num_rooms = [[ 5 ]]\n",
    "price = lr.predict(num_rooms)\n",
    "print(\"Cena w tysiącach dolarów: %.3f\" % price)"
   ]
  },
  {
   "cell_type": "code",
   "execution_count": null,
   "metadata": {
    "slideshow": {
     "slide_type": "slide"
    }
   },
   "outputs": [],
   "source": [
    "# ocena modelu\n",
    "from sklearn.metrics import r2_score\n",
    "from sklearn.metrics import mean_squared_error\n",
    "\n",
    "y_train_pred = lr.predict(X_train[['RM']])\n",
    "y_test_pred = lr.predict(X_test[['RM']])\n",
    "\n",
    "mse_train = mean_squared_error(y_train, y_train_pred)\n",
    "mse_test  = mean_squared_error(y_test, y_test_pred)\n",
    "print('MSE na próbkach uczących: %.3f, testowych: %.3f' % (mse_train, mse_test))\n",
    "\n",
    "r2_train = r2_score(y_train, y_train_pred)\n",
    "r2_test  = r2_score(y_test, y_test_pred)\n",
    "print('Współczynnik R^2 dla danych uczących: %.3f, testowych: %.3f' % (r2_train, r2_test))"
   ]
  },
  {
   "cell_type": "code",
   "execution_count": null,
   "metadata": {},
   "outputs": [],
   "source": [
    "wyniki = pd.DataFrame(columns =['MSE train', 'MSE test', 'R2 train', 'R2 test' ])\n",
    "wyniki.loc['LR zmienna [RM]'] = [mse_train, mse_test, r2_train, r2_test ]\n",
    "wyniki"
   ]
  },
  {
   "cell_type": "markdown",
   "metadata": {
    "slideshow": {
     "slide_type": "slide"
    }
   },
   "source": [
    "## Model regresji liniowej dla wybranych zmiennych\n"
   ]
  },
  {
   "cell_type": "code",
   "execution_count": null,
   "metadata": {},
   "outputs": [],
   "source": [
    "# wybierzmy 3 zmienne o najwiekszym wsp. korelacji\n",
    "cols = ['LSTAT', 'PTRATIO', 'RM']\n",
    "\n",
    "lr = LinearRegression()\n",
    "lr.fit(X_train[cols],  y_train)\n",
    "\n",
    "y_train_pred = lr.predict(X_train[cols])\n",
    "y_test_pred = lr.predict(X_test[cols])\n",
    "\n",
    "mse_train = mean_squared_error(y_train, y_train_pred)\n",
    "mse_test  = mean_squared_error(y_test, y_test_pred)\n",
    "\n",
    "r2_train = r2_score(y_train, y_train_pred)\n",
    "r2_test  = r2_score(y_test, y_test_pred)\n",
    "\n",
    "wyniki.loc['LR zmienne %s' % str(cols)] = [ mse_train, mse_test, r2_train, r2_test ]\n",
    "wyniki"
   ]
  },
  {
   "cell_type": "markdown",
   "metadata": {
    "slideshow": {
     "slide_type": "slide"
    }
   },
   "source": [
    "## Wykres residuów (wartości resztowe)"
   ]
  },
  {
   "cell_type": "code",
   "execution_count": null,
   "metadata": {},
   "outputs": [],
   "source": [
    "plt.scatter(y_train_pred,  y_train_pred - y_train, c='blue', marker='o', label='Dane uczące')\n",
    "plt.scatter(y_test_pred,  y_test_pred - y_test, c='lightgreen', marker='s', label='Dane testowe')\n",
    "plt.xlabel('Przewidywane wartości')\n",
    "plt.ylabel('Wartości resztowe')\n",
    "plt.legend(loc='upper left')\n",
    "plt.hlines(y=0, xmin=-10, xmax=50, lw=2, color='red')\n",
    "plt.xlim([-10, 50])\n",
    "\n",
    "plt.show()"
   ]
  },
  {
   "cell_type": "markdown",
   "metadata": {
    "slideshow": {
     "slide_type": "slide"
    }
   },
   "source": [
    "## Model regresji dla wszystkich zmienneych"
   ]
  },
  {
   "cell_type": "code",
   "execution_count": null,
   "metadata": {},
   "outputs": [],
   "source": [
    "lr = LinearRegression()\n",
    "lr.fit(X_train,  y_train)\n",
    "\n",
    "y_train_pred = lr.predict(X_train)\n",
    "y_test_pred = lr.predict(X_test)\n",
    "\n",
    "mse_train = mean_squared_error(y_train, y_train_pred)\n",
    "mse_test  = mean_squared_error(y_test, y_test_pred)\n",
    "\n",
    "r2_train = r2_score(y_train, y_train_pred)\n",
    "r2_test  = r2_score(y_test, y_test_pred)\n",
    "\n",
    "wyniki.loc['LR wszystkie zmienne'] = [ mse_train, mse_test, r2_train, r2_test ]\n",
    "wyniki"
   ]
  },
  {
   "cell_type": "code",
   "execution_count": null,
   "metadata": {
    "slideshow": {
     "slide_type": "slide"
    }
   },
   "outputs": [],
   "source": [
    "# lasso dla wszystkich zmiennych \n",
    "from sklearn.linear_model import Lasso\n",
    "\n",
    "lasso = Lasso()\n",
    "lasso.fit(X_train, y_train)\n",
    "y_train_pred = lasso.predict(X_train)\n",
    "y_test_pred = lasso.predict(X_test)\n",
    "print(lasso.coef_)\n",
    "\n",
    "mse_train = mean_squared_error(y_train, y_train_pred)\n",
    "mse_test  = mean_squared_error(y_test, y_test_pred)\n",
    "\n",
    "r2_train = r2_score(y_train, y_train_pred)\n",
    "r2_test  = r2_score(y_test, y_test_pred)\n",
    "\n",
    "wyniki.loc['Lasso wszystkie zmienne'] = [ mse_train, mse_test, r2_train, r2_test ]\n",
    "wyniki"
   ]
  },
  {
   "cell_type": "code",
   "execution_count": null,
   "metadata": {
    "slideshow": {
     "slide_type": "slide"
    }
   },
   "outputs": [],
   "source": [
    "# silniejsza regularyzacja lasso\n",
    "lasso = Lasso(alpha=0.1)\n",
    "lasso.fit(X_train, y_train)\n",
    "y_train_pred = lasso.predict(X_train)\n",
    "y_test_pred = lasso.predict(X_test)\n",
    "print(lasso.coef_)\n",
    "\n",
    "wyniki.loc['Lasso alpha=0.1 wszystkie zmienne'] = [ mean_squared_error(y_train, y_train_pred), \n",
    "                                                   mean_squared_error(y_test, y_test_pred), \n",
    "                                                   r2_score(y_train, y_train_pred), \n",
    "                                                   r2_score(y_test, y_test_pred) ]\n",
    "wyniki"
   ]
  },
  {
   "cell_type": "markdown",
   "metadata": {
    "slideshow": {
     "slide_type": "slide"
    }
   },
   "source": [
    "## Modelowanie nieliniowych zależności"
   ]
  },
  {
   "cell_type": "code",
   "execution_count": null,
   "metadata": {},
   "outputs": [],
   "source": [
    "# zmienna 'LSTAT'\n",
    "\n",
    "sns.lmplot(data=df, x='LSTAT', y='MEDV');"
   ]
  },
  {
   "cell_type": "code",
   "execution_count": null,
   "metadata": {
    "slideshow": {
     "slide_type": "slide"
    }
   },
   "outputs": [],
   "source": [
    "from sklearn.preprocessing import PolynomialFeatures \n",
    "\n",
    "# tworzy wielomianowe cechy\n",
    "quadratic = PolynomialFeatures(degree=2)\n",
    "X_quad_train = quadratic.fit_transform(X_train[['LSTAT']])\n",
    "\n",
    "lr = LinearRegression()\n",
    "lr.fit(X_quad_train, y_train)\n",
    "\n",
    "y_train_pred = lr.predict(X_quad_train)\n",
    "y_test_pred = lr.predict(quadratic.transform(X_test[['LSTAT']]))\n",
    "\n",
    "wyniki.loc['LR kwadratowe (d=2) [LSTAT]'] = [ mean_squared_error(y_train, y_train_pred), \n",
    "                                              mean_squared_error(y_test, y_test_pred), \n",
    "                                              r2_score(y_train, y_train_pred), \n",
    "                                              r2_score(y_test, y_test_pred) ]\n",
    "wyniki"
   ]
  },
  {
   "cell_type": "code",
   "execution_count": null,
   "metadata": {
    "slideshow": {
     "slide_type": "slide"
    }
   },
   "outputs": [],
   "source": [
    "X_fit = np.arange(X_train[['LSTAT']].values.min(), X_train[['LSTAT']].values.max(), 1)[:, np.newaxis]\n",
    "y_quad_fit = lr.predict(quadratic.transform(X_fit))\n",
    "\n",
    "# tworzy wynikowy wykres\n",
    "plt.scatter(X_train[['LSTAT']], y_train, label='Punkty uczące', color='orange')\n",
    "plt.scatter(X_test[['LSTAT']], y_test, label='Punkty testowe', color='green')\n",
    "\n",
    "plt.plot(X_fit, y_quad_fit, \n",
    "         label='Kwadratowe (d = 2)',\n",
    "         color='red', \n",
    "         lw=2,\n",
    "         linestyle='-')\n",
    "\n",
    "plt.xlabel('Odsetek uboższej części społeczeństwa [LSTAT]')\n",
    "plt.ylabel('Cena w tysiącach dolarów [MEDV]')\n",
    "plt.legend(loc='upper right')"
   ]
  },
  {
   "cell_type": "code",
   "execution_count": null,
   "metadata": {
    "slideshow": {
     "slide_type": "slide"
    }
   },
   "outputs": [],
   "source": [
    "# przekształcenie cechy (zmiennej) aby uzyskać liniowaą zalezność\n",
    "X_log_train = np.log(X_train[['LSTAT']].values)\n",
    "\n",
    "lr.fit(X_log_train, y_train)\n",
    "\n",
    "lr = LinearRegression()\n",
    "lr.fit(X_log_train, y_train)\n",
    "\n",
    "y_train_pred = lr.predict(X_log_train)\n",
    "y_test_pred = lr.predict(np.log(X_test[['LSTAT']]))\n",
    "\n",
    "wyniki.loc['LR log([LSTAT])'] = [ mean_squared_error(y_train, y_train_pred), \n",
    "                                  mean_squared_error(y_test, y_test_pred), \n",
    "                                  r2_score(y_train, y_train_pred), \n",
    "                                  r2_score(y_test, y_test_pred) ]\n",
    "wyniki"
   ]
  },
  {
   "cell_type": "code",
   "execution_count": null,
   "metadata": {
    "slideshow": {
     "slide_type": "slide"
    }
   },
   "outputs": [],
   "source": [
    "X_fit = np.arange(X_log_train.min()-1, X_log_train.max()+1, 1)[:, np.newaxis]\n",
    "y_fit = lr.predict(X_fit)\n",
    "\n",
    "plt.scatter(X_log_train, y_train, label='Punkty uczące', color='orange')\n",
    "\n",
    "plt.plot(X_fit, y_fit, \n",
    "         label='Liniowe (d = 1)', \n",
    "         color='blue', \n",
    "         lw=2)\n",
    "\n",
    "plt.xlabel('log(odsetek uboższej części społeczeństwa [LSTAT])')\n",
    "plt.ylabel('Cena w tysiącachdolarów [MEDV]')\n",
    "plt.legend(loc='lower left')"
   ]
  },
  {
   "cell_type": "markdown",
   "metadata": {
    "slideshow": {
     "slide_type": "slide"
    }
   },
   "source": [
    "## Zadanie \n",
    "\n",
    "Plik [dane/diabetes.csv](dane/diabetes.csv)zawiera dane `n=442` pacjentów chorych na cukrzycę (`diabetes`). Każdy przypadek opisany jest 10 zmiennymi numerycznymi:  wiek (`AGE`), płeć (`SEX`), wskaźnik masy ciała (`BMI`), średnie ciśnienie krwi (`BP`) i sześć pomiarów surowicy krwi (`S1 S2 S3 S4 S5 S6`). Ostatnia kolumna (zmienna `Y`) zawiera wartości określające stopnień zaawansowania choroby. Zadanie polega na zbudowaniu modeli regresji liniowej przewidujących wartość zmiennej `Y` zgodnie z poniższymi wytycznymi.\n",
    "\n",
    "1. Wczytaj plik i sprawdź, czy w danych występują braki oraz sprawdź, czy wszystkie zmienne są wartościami numerycznymi. Jeżeli zajdzie potrzeba usuń obserwacje zawierające braki a zmienne przetransformuj do postaci numerycznej."
   ]
  },
  {
   "cell_type": "code",
   "execution_count": null,
   "metadata": {},
   "outputs": [],
   "source": []
  },
  {
   "cell_type": "markdown",
   "metadata": {
    "slideshow": {
     "slide_type": "slide"
    }
   },
   "source": [
    "2. Podziel dane w sposób losowy na dwie części: treningową i testową w stosunku 50%/50%.  \n",
    "Do podziału danych możesz wykorzystać funkcję [train_test_split()](https://scikit-learn.org/stable/modules/generated/sklearn.model_selection.train_test_split.html) z pakietu scikit-learn."
   ]
  },
  {
   "cell_type": "code",
   "execution_count": null,
   "metadata": {},
   "outputs": [],
   "source": []
  },
  {
   "cell_type": "markdown",
   "metadata": {
    "slideshow": {
     "slide_type": "slide"
    }
   },
   "source": [
    "3. Sporządź wykres parowy [pairplot()](https://seaborn.pydata.org/generated/seaborn.pairplot.html) zbioru treningowego i na jego podstawie wybierz jedną zmienną, która wydaje się posiadać liniową zależność względem zmiennej wyjściowej `Y`. Zbuduj model regresji liniowej dla wybranej zmiennej. Oceń skuteczność metody wyznaczając  błąd MSE predykcji modelu na zbiorze testowym."
   ]
  },
  {
   "cell_type": "code",
   "execution_count": null,
   "metadata": {},
   "outputs": [],
   "source": []
  },
  {
   "cell_type": "markdown",
   "metadata": {
    "slideshow": {
     "slide_type": "slide"
    }
   },
   "source": [
    "4. Zbuduj drugi model regresji liniowej wykorzystując wszystkie zmienne ze zbioru treningowego ``diabetes/csv``.  Zastosuj w tym celu jedną, wybraną metodę z regularyacją (np. grzbietową lub Lasso). Przeprowadź obliczenia dla przynajmniej 2 róznych wartości współczynnika określającego siłę regularyzacji $\\alpha$ i porównaj wyniki. "
   ]
  },
  {
   "cell_type": "code",
   "execution_count": null,
   "metadata": {},
   "outputs": [],
   "source": []
  },
  {
   "cell_type": "markdown",
   "metadata": {
    "slideshow": {
     "slide_type": "slide"
    }
   },
   "source": [
    "5. Spośród wszystkich modeli regresji uzyskanych w poprzednich punktach wybierz najlepszy z nich i zaprezentuj jego współczynniki regresji."
   ]
  },
  {
   "cell_type": "code",
   "execution_count": null,
   "metadata": {},
   "outputs": [],
   "source": [
    "\n",
    "\n",
    "\n"
   ]
  }
 ],
 "metadata": {
  "celltoolbar": "Slideshow",
  "kernelspec": {
   "display_name": "Python 3 (ipykernel)",
   "language": "python",
   "name": "python3"
  },
  "language_info": {
   "codemirror_mode": {
    "name": "ipython",
    "version": 3
   },
   "file_extension": ".py",
   "mimetype": "text/x-python",
   "name": "python",
   "nbconvert_exporter": "python",
   "pygments_lexer": "ipython3",
   "version": "3.9.7"
  },
  "toc": {
   "base_numbering": 1,
   "nav_menu": {},
   "number_sections": true,
   "sideBar": true,
   "skip_h1_title": false,
   "title_cell": "Table of Contents",
   "title_sidebar": "Contents",
   "toc_cell": true,
   "toc_position": {},
   "toc_section_display": true,
   "toc_window_display": false
  },
  "varInspector": {
   "cols": {
    "lenName": 16,
    "lenType": 16,
    "lenVar": 40
   },
   "kernels_config": {
    "python": {
     "delete_cmd_postfix": "",
     "delete_cmd_prefix": "del ",
     "library": "var_list.py",
     "varRefreshCmd": "print(var_dic_list())"
    },
    "r": {
     "delete_cmd_postfix": ") ",
     "delete_cmd_prefix": "rm(",
     "library": "var_list.r",
     "varRefreshCmd": "cat(var_dic_list()) "
    }
   },
   "types_to_exclude": [
    "module",
    "function",
    "builtin_function_or_method",
    "instance",
    "_Feature"
   ],
   "window_display": false
  }
 },
 "nbformat": 4,
 "nbformat_minor": 4
}
